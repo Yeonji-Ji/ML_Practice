{
 "cells": [
  {
   "cell_type": "code",
   "execution_count": 12,
   "id": "9a115f23",
   "metadata": {},
   "outputs": [],
   "source": [
    "from rdkit import Chem\n",
    "import pandas as pd"
   ]
  },
  {
   "cell_type": "code",
   "execution_count": 14,
   "id": "c6f85b0a",
   "metadata": {},
   "outputs": [],
   "source": [
    "# Function to read an SDF file and return a list of dictionaries with molecule data\n",
    "def read_sdf_to_dict(sdf_file):\n",
    "    supplier = Chem.SDMolSupplier(sdf_file)\n",
    "    molecule_data = []\n",
    "\n",
    "    for mol in supplier:\n",
    "        if mol is None:\n",
    "            continue\n",
    "        \n",
    "        # Get the SMILES string\n",
    "        smiles = Chem.MolToSmiles(mol)\n",
    "        \n",
    "        # Get the molecule's name (if available)\n",
    "        mol_name = mol.GetProp(\"_Name\") if mol.HasProp(\"_Name\") else \"Unknown\"\n",
    "        \n",
    "        if mol_name[:4]==\"CHEM\":\n",
    "            kind = \"actives\"\n",
    "        elif mol_name[:4]==\"ZINC\":\n",
    "            kind = \"decoys\"\n",
    "        \n",
    "        # You can extract more properties if needed using mol.GetProp(\"property_name\")\n",
    "        \n",
    "        # Append to the list as a dictionary\n",
    "        molecule_data.append({\n",
    "            \"Molecule_Name\": mol_name,\n",
    "            \"SMILES\": smiles,\n",
    "            \"Ligand\": kind\n",
    "        })\n",
    "    \n",
    "    return molecule_data"
   ]
  },
  {
   "cell_type": "code",
   "execution_count": 15,
   "id": "05947588",
   "metadata": {},
   "outputs": [],
   "source": [
    "# Paths to your two SDF files\n",
    "actives_file = \"actives_final.sdf\"\n",
    "decoys_file = \"decoys_final.sdf\""
   ]
  },
  {
   "cell_type": "code",
   "execution_count": 16,
   "id": "557e6bf4",
   "metadata": {},
   "outputs": [],
   "source": [
    "# Read both SDF files\n",
    "actives_data = read_sdf_to_dict(actives_file)\n",
    "decoys_data = read_sdf_to_dict(decoys_file)"
   ]
  },
  {
   "cell_type": "code",
   "execution_count": 17,
   "id": "4ced872b",
   "metadata": {},
   "outputs": [],
   "source": [
    "# Combine the two lists\n",
    "combined_ligands = actives_data + decoys_data"
   ]
  },
  {
   "cell_type": "code",
   "execution_count": 18,
   "id": "1a6c1152",
   "metadata": {},
   "outputs": [],
   "source": [
    "df = pd.DataFrame(combined_ligands)"
   ]
  },
  {
   "cell_type": "code",
   "execution_count": 21,
   "id": "14252ce8",
   "metadata": {},
   "outputs": [],
   "source": [
    "df.to_csv(\"HMDH_combined_ligand_SMILES.csv\")"
   ]
  },
  {
   "cell_type": "code",
   "execution_count": null,
   "id": "9765289a",
   "metadata": {},
   "outputs": [],
   "source": []
  }
 ],
 "metadata": {
  "kernelspec": {
   "display_name": "ML_AI",
   "language": "python",
   "name": "ml_ai"
  },
  "language_info": {
   "codemirror_mode": {
    "name": "ipython",
    "version": 3
   },
   "file_extension": ".py",
   "mimetype": "text/x-python",
   "name": "python",
   "nbconvert_exporter": "python",
   "pygments_lexer": "ipython3",
   "version": "3.9.20"
  }
 },
 "nbformat": 4,
 "nbformat_minor": 5
}
