{
 "cells": [
  {
   "cell_type": "code",
   "execution_count": 1,
   "id": "9a115f23",
   "metadata": {},
   "outputs": [],
   "source": [
    "from rdkit import Chem\n",
    "import pandas as pd"
   ]
  },
  {
   "cell_type": "code",
   "execution_count": 2,
   "id": "4b2cf895",
   "metadata": {},
   "outputs": [],
   "source": [
    "kinase_list = ['ABL1', 'AKT1', 'AKT2', 'BRAF', 'CDK2', 'CSF1R', 'EGFR', \n",
    "               'FAK1', 'FGFR1', 'IGF1R', 'JAK2', 'KIT', 'KPCB', 'LCK', \n",
    "               'MAPK2', 'MET', 'MK01', 'MK10', 'MK14', 'MP2K1', 'PLK1', \n",
    "               'ROCK1', 'SRC', 'TGFR1', 'VGFR2', 'WEE1']"
   ]
  },
  {
   "cell_type": "code",
   "execution_count": 19,
   "id": "c6f85b0a",
   "metadata": {},
   "outputs": [],
   "source": [
    "# Function to read an SDF file and return a list of dictionaries with molecule data\n",
    "def read_sdf_to_dict(sdf_file, target):\n",
    "    supplier = Chem.SDMolSupplier(sdf_file)\n",
    "    molecule_data = []\n",
    "\n",
    "    for mol in supplier:\n",
    "        if mol is None:\n",
    "            continue\n",
    "        \n",
    "        # Get the SMILES string\n",
    "        smiles = Chem.MolToSmiles(mol)\n",
    "        \n",
    "        # Get the molecule's name (if available)\n",
    "        mol_name = mol.GetProp(\"_Name\") if mol.HasProp(\"_Name\") else \"Unknown\"\n",
    "        \n",
    "        if mol_name[:4]==\"CHEM\":\n",
    "            kind = \"actives\"\n",
    "        else:\n",
    "            kind = \"decoys\"\n",
    "        \n",
    "        # You can extract more properties if needed using mol.GetProp(\"property_name\")\n",
    "        \n",
    "        # Append to the list as a dictionary\n",
    "        molecule_data.append({\n",
    "            \"Target\": target,\n",
    "            \"Molecule_Name\": mol_name,\n",
    "            \"SMILES\": smiles,\n",
    "            \"Ligand\": kind\n",
    "        })\n",
    "    \n",
    "    return molecule_data"
   ]
  },
  {
   "cell_type": "code",
   "execution_count": 20,
   "id": "6e3635a9",
   "metadata": {},
   "outputs": [],
   "source": [
    "df = pd.DataFrame(columns=[\"Target\", \"Molecule_Name\", \"SMILES\", \"Ligand\"])"
   ]
  },
  {
   "cell_type": "code",
   "execution_count": 21,
   "id": "2f436aad",
   "metadata": {},
   "outputs": [
    {
     "name": "stderr",
     "output_type": "stream",
     "text": [
      "[18:36:30] Explicit valence for atom # 7 N, 5, is greater than permitted\n",
      "[18:36:30] ERROR: Could not sanitize molecule ending on line 586033\n",
      "[18:36:30] ERROR: Explicit valence for atom # 7 N, 5, is greater than permitted\n",
      "[18:37:14] Explicit valence for atom # 7 N, 5, is greater than permitted\n",
      "[18:37:14] ERROR: Could not sanitize molecule ending on line 1169873\n",
      "[18:37:14] ERROR: Explicit valence for atom # 7 N, 5, is greater than permitted\n"
     ]
    }
   ],
   "source": [
    "for kinase in kinase_list:\n",
    "    target = kinase.lower()\n",
    "#     print(target)\n",
    "    actives_file = \"all/\"+target+\"/actives_final.sdf\"\n",
    "    decoys_file = \"all/\"+target+\"/decoys_final.sdf\"\n",
    "    \n",
    "    actives_data = read_sdf_to_dict(actives_file, target)\n",
    "    decoys_data = read_sdf_to_dict(decoys_file, target)\n",
    "    \n",
    "    combined_ligands = actives_data + decoys_data\n",
    "    \n",
    "    df_target = pd.DataFrame(combined_ligands)\n",
    "    \n",
    "    df = pd.concat([df, df_target], ignore_index=True)"
   ]
  },
  {
   "cell_type": "code",
   "execution_count": 22,
   "id": "94ecea52",
   "metadata": {},
   "outputs": [],
   "source": [
    "df.to_csv(\"Kinase_combined_ligand_SMILES.csv\")"
   ]
  },
  {
   "cell_type": "code",
   "execution_count": null,
   "id": "ef8c9294",
   "metadata": {},
   "outputs": [],
   "source": []
  },
  {
   "cell_type": "code",
   "execution_count": null,
   "id": "9765289a",
   "metadata": {},
   "outputs": [],
   "source": []
  }
 ],
 "metadata": {
  "kernelspec": {
   "display_name": "ML_AI",
   "language": "python",
   "name": "ml_ai"
  },
  "language_info": {
   "codemirror_mode": {
    "name": "ipython",
    "version": 3
   },
   "file_extension": ".py",
   "mimetype": "text/x-python",
   "name": "python",
   "nbconvert_exporter": "python",
   "pygments_lexer": "ipython3",
   "version": "3.9.20"
  }
 },
 "nbformat": 4,
 "nbformat_minor": 5
}
